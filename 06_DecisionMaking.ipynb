{
 "cells": [
  {
   "cell_type": "markdown",
   "metadata": {},
   "source": [
    "# Decision Making\n",
    "- Definition\n",
    "- if else statement\n",
    "- nested if else statement"
   ]
  },
  {
   "cell_type": "code",
   "execution_count": 2,
   "metadata": {},
   "outputs": [],
   "source": [
    "# syntax:\n",
    "# if <condition>:\n",
    "#     <statement1>\n",
    "#     <statement2>\n",
    "#     ..\n",
    "# else: # Optional\n",
    "#     <statement1>\n",
    "#     <statement2>\n",
    "#     ..\n",
    "    "
   ]
  },
  {
   "cell_type": "code",
   "execution_count": 1,
   "metadata": {},
   "outputs": [],
   "source": [
    "# syntax:\n",
    "# if <condition>:\n",
    "#     <statement1>\n",
    "#     <statement2>\n",
    "#     ..\n",
    "# elif <condition>:\n",
    "#     <statement1>\n",
    "#     <statement2>\n",
    "#     ..\n",
    "# elif <condition>:\n",
    "#     <statement1>\n",
    "#     <statement2>\n",
    "#     ..\n",
    "# else: # Optional\n",
    "#     <statement1>\n",
    "#     <statement2>\n",
    "#     ..    "
   ]
  },
  {
   "cell_type": "code",
   "execution_count": null,
   "metadata": {},
   "outputs": [],
   "source": [
    "# syntax:\n",
    "# if <condition>:\n",
    "#     <statement1>\n",
    "#     <statement2>\n",
    "#     if <condition>:\n",
    "#         sdkjsd\n",
    "#         sglfgjdg\n",
    "#         sgbsg\n",
    "#     jksdfhjsd\n"
   ]
  },
  {
   "cell_type": "code",
   "execution_count": 4,
   "metadata": {},
   "outputs": [],
   "source": [
    "a = [1,2,3,4,5]\n"
   ]
  },
  {
   "cell_type": "code",
   "execution_count": 5,
   "metadata": {},
   "outputs": [
    {
     "name": "stdout",
     "output_type": "stream",
     "text": [
      "2 is present in a\n",
      "I am out of if block\n"
     ]
    }
   ],
   "source": [
    "if 2 in a:\n",
    "    print(\"2 is present in a\")\n",
    "print(\"I am out of if block\")"
   ]
  },
  {
   "cell_type": "code",
   "execution_count": 6,
   "metadata": {},
   "outputs": [
    {
     "name": "stdout",
     "output_type": "stream",
     "text": [
      "2 is present in a\n",
      "I am out of if block\n"
     ]
    }
   ],
   "source": [
    "if 2 in a:\n",
    "    print(\"2 is present in a\")\n",
    "else:\n",
    "    print(\"i am in else block\")\n",
    "print(\"I am out of if block\")"
   ]
  },
  {
   "cell_type": "code",
   "execution_count": 7,
   "metadata": {},
   "outputs": [
    {
     "name": "stdout",
     "output_type": "stream",
     "text": [
      "i am in else block\n",
      "I am out of if block\n"
     ]
    }
   ],
   "source": [
    "if 20 in a:\n",
    "    print(\"2 is present in a\")\n",
    "else:\n",
    "    print(\"i am in else block\")\n",
    "print(\"I am out of if block\")"
   ]
  },
  {
   "cell_type": "markdown",
   "metadata": {},
   "source": [
    "## using elif"
   ]
  },
  {
   "cell_type": "code",
   "execution_count": 8,
   "metadata": {},
   "outputs": [],
   "source": [
    "a = [1,2,3,4,5]"
   ]
  },
  {
   "cell_type": "code",
   "execution_count": 9,
   "metadata": {},
   "outputs": [
    {
     "name": "stdout",
     "output_type": "stream",
     "text": [
      "2 is present in a\n"
     ]
    }
   ],
   "source": [
    "if 2 in a:\n",
    "    print(\"2 is present in a\")\n",
    "elif 3 in a:\n",
    "    print(\"3 is present in a\")\n",
    "elif 30 in a:\n",
    "    print(\"30 is present in a\")"
   ]
  },
  {
   "cell_type": "code",
   "execution_count": 10,
   "metadata": {},
   "outputs": [
    {
     "name": "stdout",
     "output_type": "stream",
     "text": [
      "3 is present in a\n"
     ]
    }
   ],
   "source": [
    "if 20 in a:\n",
    "    print(\"20 is present in a\")\n",
    "elif 3 in a:\n",
    "    print(\"3 is present in a\")\n",
    "elif 30 in a:\n",
    "    print(\"30 is present in a\")"
   ]
  },
  {
   "cell_type": "code",
   "execution_count": 11,
   "metadata": {},
   "outputs": [
    {
     "name": "stdout",
     "output_type": "stream",
     "text": [
      "300 is not present in a\n"
     ]
    }
   ],
   "source": [
    "if 20 in a:\n",
    "    print(\"20 is present in a\")\n",
    "elif 40 in a:\n",
    "    print(\"40 is present in a\")\n",
    "elif 300 not in a:\n",
    "    print(\"300 is not present in a\")"
   ]
  }
 ],
 "metadata": {
  "kernelspec": {
   "display_name": "Python 3",
   "language": "python",
   "name": "python3"
  },
  "language_info": {
   "codemirror_mode": {
    "name": "ipython",
    "version": 3
   },
   "file_extension": ".py",
   "mimetype": "text/x-python",
   "name": "python",
   "nbconvert_exporter": "python",
   "pygments_lexer": "ipython3",
   "version": "3.7.3"
  }
 },
 "nbformat": 4,
 "nbformat_minor": 2
}
