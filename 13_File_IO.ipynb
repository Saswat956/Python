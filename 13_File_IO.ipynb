{
 "cells": [
  {
   "cell_type": "markdown",
   "metadata": {},
   "source": [
    "# File I/O\n",
    "- Definition\n",
    "- Opening file using various modes\n",
    "- Read/Write operations on file\n",
    "- Tell and Seek operations\n",
    "- Some OS related operations\n",
    "- Exercise"
   ]
  },
  {
   "cell_type": "code",
   "execution_count": 1,
   "metadata": {},
   "outputs": [],
   "source": [
    "# Syntax:\n",
    "# open(<filename>,<mode>,<encoding>)\n",
    "# filename = with or without path(if file present in root dir)\n",
    "# mode:\n",
    "# r = read only (default mode),(file must be present)\n",
    "# w = write only (file will be created)\n",
    "# a = append only (file will be created)\n",
    "# r+ = read+write (file must be present)\n",
    "# w+ = read+write (file will be created)\n",
    "# a+ = read+append (file will be created)\n",
    "# rb,wb,ab,rb+,wb+,ab+ : all the above operation in byte(binary) format\n"
   ]
  },
  {
   "cell_type": "code",
   "execution_count": 7,
   "metadata": {},
   "outputs": [],
   "source": [
    "fh = open(\"test1.txt\")\n",
    "# fh = open(\"test1.txt\",\"r\")\n",
    "# fh = open(\"./test1.txt\")\n",
    "# fh = open(\"/Users/vigneshkarthick/Downloads/New_Batch/02_Feb/drive-download-20200202T065948Z-001/test1.txt\")\n",
    "# fh = open(\"C:\\\\test1.txt\")\n",
    "# fh = open(\"C:/test1.txt\")\n",
    "# fh = open(r\"C:\\test1.txt\")"
   ]
  },
  {
   "cell_type": "code",
   "execution_count": 4,
   "metadata": {},
   "outputs": [
    {
     "data": {
      "text/plain": [
       "<_io.TextIOWrapper name='test1.txt' mode='r' encoding='UTF-8'>"
      ]
     },
     "execution_count": 4,
     "metadata": {},
     "output_type": "execute_result"
    }
   ],
   "source": [
    "fh"
   ]
  },
  {
   "cell_type": "code",
   "execution_count": 46,
   "metadata": {},
   "outputs": [],
   "source": [
    "fh = open(\"test1.txt\")"
   ]
  },
  {
   "cell_type": "code",
   "execution_count": 47,
   "metadata": {},
   "outputs": [
    {
     "name": "stdout",
     "output_type": "stream",
     "text": [
      "['This is line1\\n', 'This is line2\\n', 'This is line3\\n', 'This is line4\\n', 'This is line5']\n"
     ]
    }
   ],
   "source": [
    "# print(fh.read()) # Full content will be read \n",
    "# print(fh.read(2))\n",
    "# print(fh.readline())\n",
    "print(fh.readlines())"
   ]
  },
  {
   "cell_type": "markdown",
   "metadata": {},
   "source": [
    "# Tell and seek"
   ]
  },
  {
   "cell_type": "code",
   "execution_count": 53,
   "metadata": {},
   "outputs": [],
   "source": [
    "fh = open(\"test1.txt\")"
   ]
  },
  {
   "cell_type": "code",
   "execution_count": 54,
   "metadata": {},
   "outputs": [
    {
     "name": "stdout",
     "output_type": "stream",
     "text": [
      "0\n",
      "Th\n",
      "2\n",
      "is\n",
      "4\n"
     ]
    }
   ],
   "source": [
    "print(fh.tell())\n",
    "print(fh.read(2))\n",
    "print(fh.tell())\n",
    "print(fh.read(2))\n",
    "print(fh.tell())"
   ]
  },
  {
   "cell_type": "markdown",
   "metadata": {},
   "source": [
    "# seek"
   ]
  },
  {
   "cell_type": "code",
   "execution_count": 56,
   "metadata": {},
   "outputs": [],
   "source": [
    "# seek(<offset>,<pointer_position>)\n",
    "# offset: number of characters to be skipped\n",
    "# pointer_position: \n",
    "#     0: Starting of file (default)\n",
    "#     1: current postion (mode must be in byte format)\n",
    "#     2: end of file"
   ]
  },
  {
   "cell_type": "code",
   "execution_count": 57,
   "metadata": {},
   "outputs": [],
   "source": [
    "fh = open(\"test1.txt\")"
   ]
  },
  {
   "cell_type": "code",
   "execution_count": 58,
   "metadata": {},
   "outputs": [
    {
     "name": "stdout",
     "output_type": "stream",
     "text": [
      "0\n",
      "This \n",
      "0\n",
      "Thi\n",
      "3\n"
     ]
    }
   ],
   "source": [
    "print(fh.tell())\n",
    "print(fh.read(5))\n",
    "fh.seek(0) # or fh.seek(0,0)\n",
    "print(fh.tell())\n",
    "print(fh.read(3))\n",
    "print(fh.tell())"
   ]
  },
  {
   "cell_type": "code",
   "execution_count": 63,
   "metadata": {},
   "outputs": [
    {
     "name": "stdout",
     "output_type": "stream",
     "text": [
      "0\n",
      "This \n",
      "is is l\n"
     ]
    }
   ],
   "source": [
    "fh = open(\"test1.txt\")\n",
    "print(fh.tell())\n",
    "print(fh.read(5))\n",
    "fh.seek(2)\n",
    "print(fh.read(7))"
   ]
  },
  {
   "cell_type": "code",
   "execution_count": 65,
   "metadata": {},
   "outputs": [
    {
     "name": "stdout",
     "output_type": "stream",
     "text": [
      "0\n",
      "This \n",
      "is line\n"
     ]
    }
   ],
   "source": [
    "fh = open(\"test1.txt\")\n",
    "print(fh.tell())\n",
    "print(fh.read(5))\n",
    "fh.seek(0,1)\n",
    "print(fh.read(7))"
   ]
  },
  {
   "cell_type": "code",
   "execution_count": 67,
   "metadata": {},
   "outputs": [
    {
     "name": "stdout",
     "output_type": "stream",
     "text": [
      "0\n",
      "b'This '\n",
      "b'line'\n"
     ]
    }
   ],
   "source": [
    "fh = open(\"test1.txt\",\"rb\")\n",
    "print(fh.tell())\n",
    "print(fh.read(5))\n",
    "fh.seek(2,1)\n",
    "print(fh.read(4))"
   ]
  },
  {
   "cell_type": "code",
   "execution_count": 68,
   "metadata": {},
   "outputs": [
    {
     "name": "stdout",
     "output_type": "stream",
     "text": [
      "0\n",
      "b'This is line1\\nThis is line2\\nThis is line3\\nThis is line4\\nThis is line5'\n",
      "69\n",
      "b'lin'\n"
     ]
    }
   ],
   "source": [
    "fh = open(\"test1.txt\",\"rb\")\n",
    "print(fh.tell())\n",
    "print(fh.read())\n",
    "print(fh.tell())\n",
    "fh.seek(-5,2)\n",
    "print(fh.read(3))"
   ]
  },
  {
   "cell_type": "markdown",
   "metadata": {},
   "source": [
    "# Write operation"
   ]
  },
  {
   "cell_type": "code",
   "execution_count": 76,
   "metadata": {},
   "outputs": [
    {
     "name": "stdout",
     "output_type": "stream",
     "text": [
      "False\n",
      "True\n"
     ]
    }
   ],
   "source": [
    "fh = open(\"test2.txt\",\"w\")\n",
    "fh.write(\"This is write1\\n\")\n",
    "fh.write(\"This is write2\\n\")\n",
    "fh.write(\"This is write3\\n\")\n",
    "print(fh.closed)\n",
    "fh.close()\n",
    "print(fh.closed)"
   ]
  },
  {
   "cell_type": "markdown",
   "metadata": {},
   "source": [
    "# using with open"
   ]
  },
  {
   "cell_type": "code",
   "execution_count": 77,
   "metadata": {},
   "outputs": [
    {
     "name": "stdout",
     "output_type": "stream",
     "text": [
      "False\n",
      "True\n"
     ]
    }
   ],
   "source": [
    "with open(\"test3.txt\",\"w\") as fh:\n",
    "    fh.write(\"This is write1\\n\")\n",
    "    fh.write(\"This is write2\\n\")\n",
    "    fh.write(\"This is write3\\n\")\n",
    "    print(fh.closed) # to check file is closed or not\n",
    "print(fh.closed)"
   ]
  },
  {
   "cell_type": "markdown",
   "metadata": {},
   "source": [
    "# Append"
   ]
  },
  {
   "cell_type": "code",
   "execution_count": 82,
   "metadata": {},
   "outputs": [],
   "source": [
    "fh = open(\"test3.txt\",\"a\")\n",
    "fh.write(\"This is append1\\n\")\n",
    "fh.write(\"This is append2\\n\")\n",
    "fh.write(\"This is append3\\n\")\n",
    "fh.close()"
   ]
  },
  {
   "cell_type": "markdown",
   "metadata": {},
   "source": [
    "###### How to iterate over lines"
   ]
  },
  {
   "cell_type": "code",
   "execution_count": 84,
   "metadata": {},
   "outputs": [
    {
     "name": "stdout",
     "output_type": "stream",
     "text": [
      "This is line1\n",
      "\n",
      "This is line2\n",
      "\n",
      "This is line3\n",
      "\n",
      "This is line4\n",
      "\n",
      "This is line5\n"
     ]
    }
   ],
   "source": [
    "fh = open(\"test1.txt\")\n",
    "for line in fh:\n",
    "    print(line)"
   ]
  },
  {
   "cell_type": "markdown",
   "metadata": {},
   "source": [
    "# Exercise"
   ]
  },
  {
   "cell_type": "markdown",
   "metadata": {},
   "source": [
    "#### Open the file and print only those lines which is non-empty and later print only those lines which is ending with even numbers"
   ]
  },
  {
   "cell_type": "code",
   "execution_count": 92,
   "metadata": {},
   "outputs": [
    {
     "name": "stdout",
     "output_type": "stream",
     "text": [
      "This is Line2\n",
      "\n",
      "This is Line4\n",
      "\n",
      "This is Line6\n",
      "\n",
      "This is Line8\n",
      "\n"
     ]
    }
   ],
   "source": [
    "fh = open(\"test5.txt\")\n",
    "for line in fh:\n",
    "    if line != \"\\n\":\n",
    "        if int(line[-2])%2 == 0:\n",
    "            print(line)"
   ]
  },
  {
   "cell_type": "markdown",
   "metadata": {},
   "source": [
    "# OS related functions"
   ]
  },
  {
   "cell_type": "code",
   "execution_count": 93,
   "metadata": {},
   "outputs": [],
   "source": [
    "import os"
   ]
  },
  {
   "cell_type": "code",
   "execution_count": 94,
   "metadata": {},
   "outputs": [
    {
     "data": {
      "text/plain": [
       "'/Users/vigneshkarthick/Downloads/New_Batch/02_Feb/drive-download-20200202T065948Z-001'"
      ]
     },
     "execution_count": 94,
     "metadata": {},
     "output_type": "execute_result"
    }
   ],
   "source": [
    "os.getcwd()"
   ]
  },
  {
   "cell_type": "code",
   "execution_count": 95,
   "metadata": {},
   "outputs": [],
   "source": [
    "os.chdir('/Users/vigneshkarthick')"
   ]
  },
  {
   "cell_type": "code",
   "execution_count": 96,
   "metadata": {},
   "outputs": [
    {
     "data": {
      "text/plain": [
       "'/Users/vigneshkarthick'"
      ]
     },
     "execution_count": 96,
     "metadata": {},
     "output_type": "execute_result"
    }
   ],
   "source": [
    "os.getcwd()"
   ]
  },
  {
   "cell_type": "code",
   "execution_count": 97,
   "metadata": {},
   "outputs": [],
   "source": [
    "os.chdir('/Users/vigneshkarthick/Downloads/New_Batch/02_Feb/drive-download-20200202T065948Z-001')"
   ]
  },
  {
   "cell_type": "code",
   "execution_count": 104,
   "metadata": {},
   "outputs": [
    {
     "data": {
      "text/plain": [
       "'/Users/vigneshkarthick/Downloads/New_Batch/02_Feb/drive-download-20200202T065948Z-001'"
      ]
     },
     "execution_count": 104,
     "metadata": {},
     "output_type": "execute_result"
    }
   ],
   "source": [
    "os.getcwd()"
   ]
  },
  {
   "cell_type": "code",
   "execution_count": 105,
   "metadata": {},
   "outputs": [],
   "source": [
    "os.chdir(\"../../\")"
   ]
  },
  {
   "cell_type": "code",
   "execution_count": 106,
   "metadata": {},
   "outputs": [
    {
     "data": {
      "text/plain": [
       "'/Users/vigneshkarthick/Downloads/New_Batch'"
      ]
     },
     "execution_count": 106,
     "metadata": {},
     "output_type": "execute_result"
    }
   ],
   "source": [
    "os.getcwd()"
   ]
  },
  {
   "cell_type": "code",
   "execution_count": 109,
   "metadata": {},
   "outputs": [],
   "source": [
    "os.chdir(\"./02_Feb/drive-download-20200202T065948Z-001/\")"
   ]
  },
  {
   "cell_type": "code",
   "execution_count": 110,
   "metadata": {},
   "outputs": [
    {
     "data": {
      "text/plain": [
       "'/Users/vigneshkarthick/Downloads/New_Batch/02_Feb/drive-download-20200202T065948Z-001'"
      ]
     },
     "execution_count": 110,
     "metadata": {},
     "output_type": "execute_result"
    }
   ],
   "source": [
    "os.getcwd()"
   ]
  },
  {
   "cell_type": "code",
   "execution_count": 99,
   "metadata": {},
   "outputs": [],
   "source": [
    "os.mkdir(\"testfolder\")"
   ]
  },
  {
   "cell_type": "code",
   "execution_count": 100,
   "metadata": {},
   "outputs": [],
   "source": [
    "os.rename(\"testfolder\",'testfolder1')"
   ]
  },
  {
   "cell_type": "code",
   "execution_count": 103,
   "metadata": {},
   "outputs": [],
   "source": [
    "os.removedirs('testfolder1')"
   ]
  }
 ],
 "metadata": {
  "kernelspec": {
   "display_name": "Python 3",
   "language": "python",
   "name": "python3"
  },
  "language_info": {
   "codemirror_mode": {
    "name": "ipython",
    "version": 3
   },
   "file_extension": ".py",
   "mimetype": "text/x-python",
   "name": "python",
   "nbconvert_exporter": "python",
   "pygments_lexer": "ipython3",
   "version": "3.7.3"
  }
 },
 "nbformat": 4,
 "nbformat_minor": 2
}
